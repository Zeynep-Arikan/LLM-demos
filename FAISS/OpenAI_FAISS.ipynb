{
 "cells": [
  {
   "cell_type": "markdown",
   "metadata": {
    "id": "vk6F2UTvVXh3"
   },
   "source": [
    "Metin tabanlı bir soru-cevap sistemi oluşturmak için FAISS'i kullandık. FAISS, metin tabanlı soru-cevap sistemimizde, kullanıcı sorularına en alakalı cevapları hızlı ve verimli bir şekilde bulmak için kullandığımız bir araçtır. Metinleri vektörlere dönüştürerek, bu vektörleri indeksleyerek ve benzerlik araması yaparak, sistemin doğru ve hızlı cevaplar vermesini sağlar.\n",
    "\n",
    "Metin parçaları OpenAIEmbeddings kullanılarak sayısal vektörlere dönüştürüldü.\n",
    "\n",
    "FAISS, bu vektörleri hızlı bir şekilde aranabilir bir indeks yapısı içinde organize etti. Bu, benzerlik aramalarını hızlandırmak için önemlidir.\n",
    "\n",
    "Kullanıcı bir soru sorduğunda, soru da bir vektöre dönüştürülür ve FAISS indeksi kullanılarak en benzer metin parçaları bulunur."
   ]
  },
  {
   "cell_type": "code",
   "execution_count": null,
   "metadata": {
    "colab": {
     "base_uri": "https://localhost:8080/"
    },
    "collapsed": true,
    "executionInfo": {
     "elapsed": 22624,
     "status": "ok",
     "timestamp": 1742534004814,
     "user": {
      "displayName": "Uzaktan Mühendis",
      "userId": "05854946920835344772"
     },
     "user_tz": -180
    },
    "id": "AgEFYj12G_OA",
    "outputId": "e47dfa3b-7d18-45bc-aa6b-346980b5f5fd"
   },
   "outputs": [
    {
     "name": "stdout",
     "output_type": "stream",
     "text": [
      "Requirement already satisfied: langchain in /usr/local/lib/python3.11/dist-packages (0.3.20)\n",
      "Collecting langchain-openai\n",
      "  Downloading langchain_openai-0.3.9-py3-none-any.whl.metadata (2.3 kB)\n",
      "Collecting langchain-community\n",
      "  Downloading langchain_community-0.3.20-py3-none-any.whl.metadata (2.4 kB)\n",
      "Collecting faiss-cpu\n",
      "  Downloading faiss_cpu-1.10.0-cp311-cp311-manylinux_2_28_x86_64.whl.metadata (4.4 kB)\n",
      "Collecting tiktoken\n",
      "  Downloading tiktoken-0.9.0-cp311-cp311-manylinux_2_17_x86_64.manylinux2014_x86_64.whl.metadata (6.7 kB)\n",
      "Requirement already satisfied: langchain-core<1.0.0,>=0.3.41 in /usr/local/lib/python3.11/dist-packages (from langchain) (0.3.45)\n",
      "Requirement already satisfied: langchain-text-splitters<1.0.0,>=0.3.6 in /usr/local/lib/python3.11/dist-packages (from langchain) (0.3.6)\n",
      "Requirement already satisfied: langsmith<0.4,>=0.1.17 in /usr/local/lib/python3.11/dist-packages (from langchain) (0.3.15)\n",
      "Requirement already satisfied: pydantic<3.0.0,>=2.7.4 in /usr/local/lib/python3.11/dist-packages (from langchain) (2.10.6)\n",
      "Requirement already satisfied: SQLAlchemy<3,>=1.4 in /usr/local/lib/python3.11/dist-packages (from langchain) (2.0.39)\n",
      "Requirement already satisfied: requests<3,>=2 in /usr/local/lib/python3.11/dist-packages (from langchain) (2.32.3)\n",
      "Requirement already satisfied: PyYAML>=5.3 in /usr/local/lib/python3.11/dist-packages (from langchain) (6.0.2)\n",
      "Requirement already satisfied: openai<2.0.0,>=1.66.3 in /usr/local/lib/python3.11/dist-packages (from langchain-openai) (1.66.3)\n",
      "Collecting langchain\n",
      "  Downloading langchain-0.3.21-py3-none-any.whl.metadata (7.8 kB)\n",
      "Requirement already satisfied: aiohttp<4.0.0,>=3.8.3 in /usr/local/lib/python3.11/dist-packages (from langchain-community) (3.11.14)\n",
      "Requirement already satisfied: tenacity!=8.4.0,<10,>=8.1.0 in /usr/local/lib/python3.11/dist-packages (from langchain-community) (9.0.0)\n",
      "Collecting dataclasses-json<0.7,>=0.5.7 (from langchain-community)\n",
      "  Downloading dataclasses_json-0.6.7-py3-none-any.whl.metadata (25 kB)\n",
      "Collecting pydantic-settings<3.0.0,>=2.4.0 (from langchain-community)\n",
      "  Downloading pydantic_settings-2.8.1-py3-none-any.whl.metadata (3.5 kB)\n",
      "Collecting httpx-sse<1.0.0,>=0.4.0 (from langchain-community)\n",
      "  Downloading httpx_sse-0.4.0-py3-none-any.whl.metadata (9.0 kB)\n",
      "Requirement already satisfied: numpy<3,>=1.26.2 in /usr/local/lib/python3.11/dist-packages (from langchain-community) (2.0.2)\n",
      "Collecting langchain-text-splitters<1.0.0,>=0.3.7 (from langchain)\n",
      "  Downloading langchain_text_splitters-0.3.7-py3-none-any.whl.metadata (1.9 kB)\n",
      "Requirement already satisfied: packaging in /usr/local/lib/python3.11/dist-packages (from faiss-cpu) (24.2)\n",
      "Requirement already satisfied: regex>=2022.1.18 in /usr/local/lib/python3.11/dist-packages (from tiktoken) (2024.11.6)\n",
      "Requirement already satisfied: aiohappyeyeballs>=2.3.0 in /usr/local/lib/python3.11/dist-packages (from aiohttp<4.0.0,>=3.8.3->langchain-community) (2.6.1)\n",
      "Requirement already satisfied: aiosignal>=1.1.2 in /usr/local/lib/python3.11/dist-packages (from aiohttp<4.0.0,>=3.8.3->langchain-community) (1.3.2)\n",
      "Requirement already satisfied: attrs>=17.3.0 in /usr/local/lib/python3.11/dist-packages (from aiohttp<4.0.0,>=3.8.3->langchain-community) (25.3.0)\n",
      "Requirement already satisfied: frozenlist>=1.1.1 in /usr/local/lib/python3.11/dist-packages (from aiohttp<4.0.0,>=3.8.3->langchain-community) (1.5.0)\n",
      "Requirement already satisfied: multidict<7.0,>=4.5 in /usr/local/lib/python3.11/dist-packages (from aiohttp<4.0.0,>=3.8.3->langchain-community) (6.2.0)\n",
      "Requirement already satisfied: propcache>=0.2.0 in /usr/local/lib/python3.11/dist-packages (from aiohttp<4.0.0,>=3.8.3->langchain-community) (0.3.0)\n",
      "Requirement already satisfied: yarl<2.0,>=1.17.0 in /usr/local/lib/python3.11/dist-packages (from aiohttp<4.0.0,>=3.8.3->langchain-community) (1.18.3)\n",
      "Collecting marshmallow<4.0.0,>=3.18.0 (from dataclasses-json<0.7,>=0.5.7->langchain-community)\n",
      "  Downloading marshmallow-3.26.1-py3-none-any.whl.metadata (7.3 kB)\n",
      "Collecting typing-inspect<1,>=0.4.0 (from dataclasses-json<0.7,>=0.5.7->langchain-community)\n",
      "  Downloading typing_inspect-0.9.0-py3-none-any.whl.metadata (1.5 kB)\n",
      "Requirement already satisfied: jsonpatch<2.0,>=1.33 in /usr/local/lib/python3.11/dist-packages (from langchain-core<1.0.0,>=0.3.41->langchain) (1.33)\n",
      "Requirement already satisfied: typing-extensions>=4.7 in /usr/local/lib/python3.11/dist-packages (from langchain-core<1.0.0,>=0.3.41->langchain) (4.12.2)\n",
      "Requirement already satisfied: httpx<1,>=0.23.0 in /usr/local/lib/python3.11/dist-packages (from langsmith<0.4,>=0.1.17->langchain) (0.28.1)\n",
      "Requirement already satisfied: orjson<4.0.0,>=3.9.14 in /usr/local/lib/python3.11/dist-packages (from langsmith<0.4,>=0.1.17->langchain) (3.10.15)\n",
      "Requirement already satisfied: requests-toolbelt<2.0.0,>=1.0.0 in /usr/local/lib/python3.11/dist-packages (from langsmith<0.4,>=0.1.17->langchain) (1.0.0)\n",
      "Requirement already satisfied: zstandard<0.24.0,>=0.23.0 in /usr/local/lib/python3.11/dist-packages (from langsmith<0.4,>=0.1.17->langchain) (0.23.0)\n",
      "Requirement already satisfied: anyio<5,>=3.5.0 in /usr/local/lib/python3.11/dist-packages (from openai<2.0.0,>=1.66.3->langchain-openai) (4.9.0)\n",
      "Requirement already satisfied: distro<2,>=1.7.0 in /usr/local/lib/python3.11/dist-packages (from openai<2.0.0,>=1.66.3->langchain-openai) (1.9.0)\n",
      "Requirement already satisfied: jiter<1,>=0.4.0 in /usr/local/lib/python3.11/dist-packages (from openai<2.0.0,>=1.66.3->langchain-openai) (0.9.0)\n",
      "Requirement already satisfied: sniffio in /usr/local/lib/python3.11/dist-packages (from openai<2.0.0,>=1.66.3->langchain-openai) (1.3.1)\n",
      "Requirement already satisfied: tqdm>4 in /usr/local/lib/python3.11/dist-packages (from openai<2.0.0,>=1.66.3->langchain-openai) (4.67.1)\n",
      "Requirement already satisfied: annotated-types>=0.6.0 in /usr/local/lib/python3.11/dist-packages (from pydantic<3.0.0,>=2.7.4->langchain) (0.7.0)\n",
      "Requirement already satisfied: pydantic-core==2.27.2 in /usr/local/lib/python3.11/dist-packages (from pydantic<3.0.0,>=2.7.4->langchain) (2.27.2)\n",
      "Collecting python-dotenv>=0.21.0 (from pydantic-settings<3.0.0,>=2.4.0->langchain-community)\n",
      "  Downloading python_dotenv-1.0.1-py3-none-any.whl.metadata (23 kB)\n",
      "Requirement already satisfied: charset-normalizer<4,>=2 in /usr/local/lib/python3.11/dist-packages (from requests<3,>=2->langchain) (3.4.1)\n",
      "Requirement already satisfied: idna<4,>=2.5 in /usr/local/lib/python3.11/dist-packages (from requests<3,>=2->langchain) (3.10)\n",
      "Requirement already satisfied: urllib3<3,>=1.21.1 in /usr/local/lib/python3.11/dist-packages (from requests<3,>=2->langchain) (2.3.0)\n",
      "Requirement already satisfied: certifi>=2017.4.17 in /usr/local/lib/python3.11/dist-packages (from requests<3,>=2->langchain) (2025.1.31)\n",
      "Requirement already satisfied: greenlet!=0.4.17 in /usr/local/lib/python3.11/dist-packages (from SQLAlchemy<3,>=1.4->langchain) (3.1.1)\n",
      "Requirement already satisfied: httpcore==1.* in /usr/local/lib/python3.11/dist-packages (from httpx<1,>=0.23.0->langsmith<0.4,>=0.1.17->langchain) (1.0.7)\n",
      "Requirement already satisfied: h11<0.15,>=0.13 in /usr/local/lib/python3.11/dist-packages (from httpcore==1.*->httpx<1,>=0.23.0->langsmith<0.4,>=0.1.17->langchain) (0.14.0)\n",
      "Requirement already satisfied: jsonpointer>=1.9 in /usr/local/lib/python3.11/dist-packages (from jsonpatch<2.0,>=1.33->langchain-core<1.0.0,>=0.3.41->langchain) (3.0.0)\n",
      "Collecting mypy-extensions>=0.3.0 (from typing-inspect<1,>=0.4.0->dataclasses-json<0.7,>=0.5.7->langchain-community)\n",
      "  Downloading mypy_extensions-1.0.0-py3-none-any.whl.metadata (1.1 kB)\n",
      "Downloading langchain_openai-0.3.9-py3-none-any.whl (60 kB)\n",
      "\u001b[2K   \u001b[90m━━━━━━━━━━━━━━━━━━━━━━━━━━━━━━━━━━━━━━━━\u001b[0m \u001b[32m60.9/60.9 kB\u001b[0m \u001b[31m2.5 MB/s\u001b[0m eta \u001b[36m0:00:00\u001b[0m\n",
      "\u001b[?25hDownloading langchain_community-0.3.20-py3-none-any.whl (2.5 MB)\n",
      "\u001b[2K   \u001b[90m━━━━━━━━━━━━━━━━━━━━━━━━━━━━━━━━━━━━━━━━\u001b[0m \u001b[32m2.5/2.5 MB\u001b[0m \u001b[31m29.6 MB/s\u001b[0m eta \u001b[36m0:00:00\u001b[0m\n",
      "\u001b[?25hDownloading langchain-0.3.21-py3-none-any.whl (1.0 MB)\n",
      "\u001b[2K   \u001b[90m━━━━━━━━━━━━━━━━━━━━━━━━━━━━━━━━━━━━━━━━\u001b[0m \u001b[32m1.0/1.0 MB\u001b[0m \u001b[31m33.2 MB/s\u001b[0m eta \u001b[36m0:00:00\u001b[0m\n",
      "\u001b[?25hDownloading faiss_cpu-1.10.0-cp311-cp311-manylinux_2_28_x86_64.whl (30.7 MB)\n",
      "\u001b[2K   \u001b[90m━━━━━━━━━━━━━━━━━━━━━━━━━━━━━━━━━━━━━━━━\u001b[0m \u001b[32m30.7/30.7 MB\u001b[0m \u001b[31m29.8 MB/s\u001b[0m eta \u001b[36m0:00:00\u001b[0m\n",
      "\u001b[?25hDownloading tiktoken-0.9.0-cp311-cp311-manylinux_2_17_x86_64.manylinux2014_x86_64.whl (1.2 MB)\n",
      "\u001b[2K   \u001b[90m━━━━━━━━━━━━━━━━━━━━━━━━━━━━━━━━━━━━━━━━\u001b[0m \u001b[32m1.2/1.2 MB\u001b[0m \u001b[31m25.3 MB/s\u001b[0m eta \u001b[36m0:00:00\u001b[0m\n",
      "\u001b[?25hDownloading dataclasses_json-0.6.7-py3-none-any.whl (28 kB)\n",
      "Downloading httpx_sse-0.4.0-py3-none-any.whl (7.8 kB)\n",
      "Downloading langchain_text_splitters-0.3.7-py3-none-any.whl (32 kB)\n",
      "Downloading pydantic_settings-2.8.1-py3-none-any.whl (30 kB)\n",
      "Downloading marshmallow-3.26.1-py3-none-any.whl (50 kB)\n",
      "\u001b[2K   \u001b[90m━━━━━━━━━━━━━━━━━━━━━━━━━━━━━━━━━━━━━━━━\u001b[0m \u001b[32m50.9/50.9 kB\u001b[0m \u001b[31m2.6 MB/s\u001b[0m eta \u001b[36m0:00:00\u001b[0m\n",
      "\u001b[?25hDownloading python_dotenv-1.0.1-py3-none-any.whl (19 kB)\n",
      "Downloading typing_inspect-0.9.0-py3-none-any.whl (8.8 kB)\n",
      "Downloading mypy_extensions-1.0.0-py3-none-any.whl (4.7 kB)\n",
      "Installing collected packages: python-dotenv, mypy-extensions, marshmallow, httpx-sse, faiss-cpu, typing-inspect, tiktoken, pydantic-settings, dataclasses-json, langchain-text-splitters, langchain-openai, langchain, langchain-community\n",
      "  Attempting uninstall: langchain-text-splitters\n",
      "    Found existing installation: langchain-text-splitters 0.3.6\n",
      "    Uninstalling langchain-text-splitters-0.3.6:\n",
      "      Successfully uninstalled langchain-text-splitters-0.3.6\n",
      "  Attempting uninstall: langchain\n",
      "    Found existing installation: langchain 0.3.20\n",
      "    Uninstalling langchain-0.3.20:\n",
      "      Successfully uninstalled langchain-0.3.20\n",
      "Successfully installed dataclasses-json-0.6.7 faiss-cpu-1.10.0 httpx-sse-0.4.0 langchain-0.3.21 langchain-community-0.3.20 langchain-openai-0.3.9 langchain-text-splitters-0.3.7 marshmallow-3.26.1 mypy-extensions-1.0.0 pydantic-settings-2.8.1 python-dotenv-1.0.1 tiktoken-0.9.0 typing-inspect-0.9.0\n"
     ]
    }
   ],
   "source": [
    "!pip install langchain langchain-openai langchain-community faiss-cpu tiktoken"
   ]
  },
  {
   "cell_type": "code",
   "execution_count": null,
   "metadata": {
    "id": "6qBxGMRtHx8a"
   },
   "outputs": [],
   "source": [
    "from langchain_openai import OpenAI\n",
    "from langchain_community.document_loaders import TextLoader\n",
    "from langchain.text_splitter import RecursiveCharacterTextSplitter\n",
    "from langchain_openai import OpenAIEmbeddings\n",
    "from langchain_community.vectorstores import FAISS\n",
    "from langchain_core.vectorstores import VectorStoreRetriever\n",
    "from langchain.chains import RetrievalQA\n",
    "import os"
   ]
  },
  {
   "cell_type": "code",
   "execution_count": null,
   "metadata": {
    "id": "CSJJsPsPIbe7"
   },
   "outputs": [],
   "source": [
    "os.environ[\"OPENAI_API_KEY\"] = \"your API Key here \""
   ]
  },
  {
   "cell_type": "code",
   "execution_count": null,
   "metadata": {
    "id": "TjVEHTbcJG2d"
   },
   "outputs": [],
   "source": [
    "loader = TextLoader(\"Rock.txt\") #dosyanın içeriğini yükle"
   ]
  },
  {
   "cell_type": "code",
   "execution_count": null,
   "metadata": {
    "id": "pQU9ZbqxKx3_"
   },
   "outputs": [],
   "source": [
    "documents = loader.load() #loader nesnesinin load() metodunu çağırarak, belgeleri yükleyip documents değişkenine ata"
   ]
  },
  {
   "cell_type": "code",
   "execution_count": null,
   "metadata": {
    "colab": {
     "base_uri": "https://localhost:8080/"
    },
    "collapsed": true,
    "executionInfo": {
     "elapsed": 41,
     "status": "ok",
     "timestamp": 1742534862596,
     "user": {
      "displayName": "Uzaktan Mühendis",
      "userId": "05854946920835344772"
     },
     "user_tz": -180
    },
    "id": "z8fko4hwKx8B",
    "outputId": "3aa63da1-cefc-4850-cfc7-ce8e578c7f56"
   },
   "outputs": [
    {
     "data": {
      "text/plain": [
       "[Document(metadata={'source': 'Rock.txt'}, page_content='Rock is a broad genre of popular music that originated in the United States as \"rock and roll\" in the late 1940s and early 1950s, developing into a range of different styles from the mid-1960s, primarily in the United States and the United Kingdom. It has its roots in rock and roll, a style that drew directly from the black musical genres of blues, rhythm and blues, and country music. \\nRock also drew strongly from genres such as electric blues and folk, and incorporated influences from jazz and other musical styles. For instrumentation, rock is typically centered on the electric guitar, usually as part of a rock group with electric bass guitar, drums, and one or more singers. \\nUsually, rock is song-based music with a 4 4 time signature and using a verse–chorus form, but the genre has become extremely diverse. Like pop music, lyrics often stress romantic love but also address a wide variety of other themes that are frequently social or political. \\nRock was the most popular genre of music in the U.S. and much of the Western world from the 1950s until its decline in the 2010s.\\n\\nRock musicians in the mid-1960s began to advance the album ahead of the single as the dominant form of recorded music expression and consumption, with the Beatles at the forefront of this development. \\nTheir contributions lent the genre a cultural legitimacy in the mainstream and initiated a rock-informed album era in the music industry for the next several decades. By the late 1960s \"classic rock\"[3] period, a few distinct rock music subgenres had emerged, including hybrids like blues rock, folk rock, country rock, Southern rock, raga rock, and jazz rock, which contributed to the development of psychedelic rock, influenced by the countercultural psychedelic and hippie scene. \\nNew genres that emerged included progressive rock, which extended artistic elements, heavy metal, which emphasized an aggressive thick sound, and glam rock, which highlighted showmanship and visual style. In the second half of the 1970s, punk rock reacted by producing stripped-down, energetic social and political critiques.\\n Punk was an influence in the 1980s on new wave, post-punk and eventually alternative rock.\\n\\nFrom the 1990s, alternative rock began to dominate rock music and break into the mainstream in the form of grunge, Britpop, and indie rock. \\nFurther fusion subgenres have since emerged, including pop-punk, electronic rock, rap rock, and rap metal. Some movements were conscious attempts to revisit rock\\'s history, including the garage rock/post-punk revival in the 2000s. \\nSince the 2010s, rock has lost its position as the pre-eminent popular music genre in world culture, but remains commercially successful. The increased influence of hip-hop and electronic dance music can be seen in rock music, notably in the techno-pop scene of the early 2010s and the pop-punk-hip-hop revival of the 2020s.\\n\\nRock has also embodied and served as the vehicle for cultural and social movements, leading to major subcultures including mods and rockers in the U.K., the hippie movement and the wider Western counterculture movement that spread out from San Francisco in the U.S. in the 1960s, the latter of which continues to this day.\\n Similarly, 1970s punk culture spawned the goth, punk, and emo subcultures. Inheriting the folk tradition of the protest song, rock music has been associated with political activism, as well as changes in social attitudes to race, sex, and drug use, and is often seen as an expression of youth revolt against adult consumerism and conformity. \\nAt the same time, it has been commercially highly successful, leading to accusations of selling out.')]"
      ]
     },
     "execution_count": 6,
     "metadata": {},
     "output_type": "execute_result"
    }
   ],
   "source": [
    "documents"
   ]
  },
  {
   "cell_type": "code",
   "execution_count": null,
   "metadata": {
    "id": "D45Dhf1mKyYh"
   },
   "outputs": [],
   "source": [
    "#RecursiveCharacterTextSplitter sınıfını kullanarak bir metin parçalayıcı oluştur\n",
    " text_splitter = RecursiveCharacterTextSplitter(\n",
    "     chunk_size=500, # her parçanın size ı max 500 karakter\n",
    "     chunk_overlap=0, # parçalar arası örtüşme olmasın\n",
    "     length_function = len, #uzunluk hesaplama\n",
    "     )"
   ]
  },
  {
   "cell_type": "code",
   "execution_count": null,
   "metadata": {
    "id": "-VVC9bpxLCUZ"
   },
   "outputs": [],
   "source": [
    "docs = text_splitter.split_documents(documents) # documentsdeki verileri text_splitter ile küçük parçalara ayırma"
   ]
  },
  {
   "cell_type": "code",
   "execution_count": null,
   "metadata": {
    "colab": {
     "base_uri": "https://localhost:8080/"
    },
    "executionInfo": {
     "elapsed": 112,
     "status": "ok",
     "timestamp": 1742537993478,
     "user": {
      "displayName": "Uzaktan Mühendis",
      "userId": "05854946920835344772"
     },
     "user_tz": -180
    },
    "id": "PgG0qXHLLCW2",
    "outputId": "c3229fab-6236-4cc6-d66d-c45a879a23df"
   },
   "outputs": [
    {
     "data": {
      "text/plain": [
       "Document(metadata={'source': 'Rock.txt'}, page_content='Rock also drew strongly from genres such as electric blues and folk, and incorporated influences from jazz and other musical styles. For instrumentation, rock is typically centered on the electric guitar, usually as part of a rock group with electric bass guitar, drums, and one or more singers.')"
      ]
     },
     "execution_count": 60,
     "metadata": {},
     "output_type": "execute_result"
    }
   ],
   "source": [
    "docs[1] #ayırdığı parçanın 1. indeksini yazdırdık örnek olsun diye"
   ]
  },
  {
   "cell_type": "code",
   "execution_count": null,
   "metadata": {
    "colab": {
     "base_uri": "https://localhost:8080/"
    },
    "executionInfo": {
     "elapsed": 22,
     "status": "ok",
     "timestamp": 1742537995314,
     "user": {
      "displayName": "Uzaktan Mühendis",
      "userId": "05854946920835344772"
     },
     "user_tz": -180
    },
    "id": "fR949RSALxL6",
    "outputId": "dfd6fdc8-0a71-4b9e-961f-49f6bcf43411"
   },
   "outputs": [
    {
     "data": {
      "text/plain": [
       "10"
      ]
     },
     "execution_count": 61,
     "metadata": {},
     "output_type": "execute_result"
    }
   ],
   "source": [
    "len(docs)"
   ]
  },
  {
   "cell_type": "code",
   "execution_count": null,
   "metadata": {
    "id": "1OGIZIpsLxQq"
   },
   "outputs": [],
   "source": [
    "embeddings = OpenAIEmbeddings() # metinleri sayısal vektöre dönüştürür\n",
    "#  yani bilgisayarın alayabileceği ve üzerinde işlem yapabileceği sayısal formata dönüştürür"
   ]
  },
  {
   "cell_type": "code",
   "execution_count": null,
   "metadata": {
    "id": "zssOlA9GMEhG"
   },
   "outputs": [],
   "source": [
    "libray = FAISS.from_documents(docs, embeddings)\n",
    "# Metinler, FAISS ile hızlı bir şekilde aranabilir bir kütüphane haline getiriliyor."
   ]
  },
  {
   "cell_type": "code",
   "execution_count": null,
   "metadata": {
    "id": "5nEY8NzHMElW"
   },
   "outputs": [],
   "source": [
    "Q1 = \"When the start alternative Rock\""
   ]
  },
  {
   "cell_type": "code",
   "execution_count": null,
   "metadata": {
    "id": "V2tDqo78N5BW"
   },
   "outputs": [],
   "source": [
    "Q1_answer = libray.similarity_search(Q1)\n",
    "#Q1 sorgusuna en benzer metin parçalarını libray indeksinde arar ve bulunan sonuçları Q1_answer adlı bir değişkene atar."
   ]
  },
  {
   "cell_type": "code",
   "execution_count": null,
   "metadata": {
    "colab": {
     "base_uri": "https://localhost:8080/"
    },
    "executionInfo": {
     "elapsed": 10,
     "status": "ok",
     "timestamp": 1742535713100,
     "user": {
      "displayName": "Uzaktan Mühendis",
      "userId": "05854946920835344772"
     },
     "user_tz": -180
    },
    "id": "kYoIMvGIOLmD",
    "outputId": "43db303b-b790-4214-f86d-a1f8fc2f8c31"
   },
   "outputs": [
    {
     "name": "stdout",
     "output_type": "stream",
     "text": [
      "From the 1990s, alternative rock began to dominate rock music and break into the mainstream in the form of grunge, Britpop, and indie rock. \n",
      "Further fusion subgenres have since emerged, including pop-punk, electronic rock, rap rock, and rap metal. Some movements were conscious attempts to revisit rock's history, including the garage rock/post-punk revival in the 2000s.\n"
     ]
    }
   ],
   "source": [
    "print(Q1_answer[0].page_content) #Q1 sorgusuna en benzer bulduğu içeriği yazar"
   ]
  },
  {
   "cell_type": "code",
   "execution_count": null,
   "metadata": {
    "colab": {
     "base_uri": "https://localhost:8080/"
    },
    "executionInfo": {
     "elapsed": 16,
     "status": "ok",
     "timestamp": 1742535825192,
     "user": {
      "displayName": "Uzaktan Mühendis",
      "userId": "05854946920835344772"
     },
     "user_tz": -180
    },
    "id": "Sh9YV1yROnVw",
    "outputId": "e97695bb-5039-4a85-8973-548b7a55e8c9"
   },
   "outputs": [
    {
     "name": "stdout",
     "output_type": "stream",
     "text": [
      "Rock is a broad genre of popular music that originated in the United States as \"rock and roll\" in the late 1940s and early 1950s, developing into a range of different styles from the mid-1960s, primarily in the United States and the United Kingdom. It has its roots in rock and roll, a style that drew directly from the black musical genres of blues, rhythm and blues, and country music.\n"
     ]
    }
   ],
   "source": [
    "print(Q1_answer[1].page_content) #Q1 sorgusuna biraz benzeyen içeriği yazar"
   ]
  },
  {
   "cell_type": "code",
   "execution_count": null,
   "metadata": {
    "id": "z3GOUIVbO22w"
   },
   "outputs": [],
   "source": [
    "docs_and_scores = libray.similarity_search_with_score(Q1)"
   ]
  },
  {
   "cell_type": "code",
   "execution_count": null,
   "metadata": {
    "colab": {
     "base_uri": "https://localhost:8080/"
    },
    "executionInfo": {
     "elapsed": 20,
     "status": "ok",
     "timestamp": 1742535946415,
     "user": {
      "displayName": "Uzaktan Mühendis",
      "userId": "05854946920835344772"
     },
     "user_tz": -180
    },
    "id": "iJ4vO8UbPDE3",
    "outputId": "9b3dcc85-89c5-4b62-cb95-011c1c665bbf"
   },
   "outputs": [
    {
     "data": {
      "text/plain": [
       "(Document(id='b0beabe4-04ac-4ea9-ab71-5ef664b0b23d', metadata={'source': 'Rock.txt'}, page_content=\"From the 1990s, alternative rock began to dominate rock music and break into the mainstream in the form of grunge, Britpop, and indie rock. \\nFurther fusion subgenres have since emerged, including pop-punk, electronic rock, rap rock, and rap metal. Some movements were conscious attempts to revisit rock's history, including the garage rock/post-punk revival in the 2000s.\"),\n",
       " np.float32(0.33218974))"
      ]
     },
     "execution_count": 26,
     "metadata": {},
     "output_type": "execute_result"
    }
   ],
   "source": [
    "docs_and_scores[0]\n",
    "#hem benzer metinleri hem de benzerlik skorlarını döndürerek daha detaylı bir sonuç sağlar."
   ]
  },
  {
   "cell_type": "markdown",
   "metadata": {
    "id": "2riLh-hoPVpK"
   },
   "source": []
  },
  {
   "cell_type": "code",
   "execution_count": null,
   "metadata": {
    "colab": {
     "base_uri": "https://localhost:8080/"
    },
    "executionInfo": {
     "elapsed": 18,
     "status": "ok",
     "timestamp": 1742535971341,
     "user": {
      "displayName": "Uzaktan Mühendis",
      "userId": "05854946920835344772"
     },
     "user_tz": -180
    },
    "id": "wRGNLn7cPMEO",
    "outputId": "85233cd7-ae65-4fc6-e4c9-49eb30a4f261"
   },
   "outputs": [
    {
     "data": {
      "text/plain": [
       "(Document(id='cb585f6b-45e9-4803-98b2-29e963a6fe7f', metadata={'source': 'Rock.txt'}, page_content='Rock is a broad genre of popular music that originated in the United States as \"rock and roll\" in the late 1940s and early 1950s, developing into a range of different styles from the mid-1960s, primarily in the United States and the United Kingdom. It has its roots in rock and roll, a style that drew directly from the black musical genres of blues, rhythm and blues, and country music.'),\n",
       " np.float32(0.38609308))"
      ]
     },
     "execution_count": 27,
     "metadata": {},
     "output_type": "execute_result"
    }
   ],
   "source": [
    "docs_and_scores[1]"
   ]
  },
  {
   "cell_type": "code",
   "execution_count": null,
   "metadata": {
    "id": "tmZvdsz3PYp_"
   },
   "outputs": [],
   "source": [
    "retriever = libray.as_retriever() #FAISS indeksini (libray) bir \"Retriever\" nesnesine dönüştürür"
   ]
  },
  {
   "cell_type": "markdown",
   "metadata": {
    "id": "c48WcisTgBh_"
   },
   "source": [
    "Retriever, belgeleri bir vektör deposundan almanın bir yoludur. Yani, bu nesne, FAISS indeksine erişmek ve belirli sorgulara göre ilgili belgeleri (metin parçalarını) almak için kullanılır."
   ]
  },
  {
   "cell_type": "code",
   "execution_count": null,
   "metadata": {
    "id": "cgRITRGOPY4Q"
   },
   "outputs": [],
   "source": [
    "qa = RetrievalQA.from_chain_type(llm=OpenAI(), chain_type=\"stuff\", retriever=retriever)\n",
    "#İlgili belgeleri bulmak için retriever'ı kullanır, bu belgeleri OpenAI'ın dil modeline iletir ve bir cevap oluşturur."
   ]
  },
  {
   "cell_type": "code",
   "execution_count": null,
   "metadata": {
    "id": "o21YAWzJPwL4"
   },
   "outputs": [],
   "source": [
    "retriever_query = \"What is the some populer Rock Album\""
   ]
  },
  {
   "cell_type": "code",
   "execution_count": null,
   "metadata": {
    "id": "CwJmYC7kP8O_"
   },
   "outputs": [],
   "source": [
    "results = qa.invoke(retriever_query) #retriever_qury deki soru sorar ve result değişkenine atar"
   ]
  },
  {
   "cell_type": "code",
   "execution_count": null,
   "metadata": {
    "colab": {
     "base_uri": "https://localhost:8080/"
    },
    "executionInfo": {
     "elapsed": 34,
     "status": "ok",
     "timestamp": 1742536351893,
     "user": {
      "displayName": "Uzaktan Mühendis",
      "userId": "05854946920835344772"
     },
     "user_tz": -180
    },
    "id": "eVqyviUHPwP6",
    "outputId": "6f9d5318-a7c8-4eeb-ff99-aaaeb6f5d1a7"
   },
   "outputs": [
    {
     "name": "stdout",
     "output_type": "stream",
     "text": [
      "{'query': 'What is the some populer Rock Album', 'result': ' Some popular rock albums include \"Sgt. Pepper\\'s Lonely Hearts Club Band\" by The Beatles, \"Dark Side of the Moon\" by Pink Floyd, \"Nevermind\" by Nirvana, and \"The Joshua Tree\" by U2.'}\n"
     ]
    }
   ],
   "source": [
    "print(results)"
   ]
  },
  {
   "cell_type": "code",
   "execution_count": null,
   "metadata": {
    "id": "eZCY7OWDQsOe"
   },
   "outputs": [],
   "source": [
    "retriever_q1 = \"What is the most populer Rock Album\""
   ]
  },
  {
   "cell_type": "code",
   "execution_count": null,
   "metadata": {
    "id": "qsLxcx0qQsRu"
   },
   "outputs": [],
   "source": [
    "results1 = qa.invoke(retriever_q1)"
   ]
  },
  {
   "cell_type": "code",
   "execution_count": null,
   "metadata": {
    "colab": {
     "base_uri": "https://localhost:8080/"
    },
    "executionInfo": {
     "elapsed": 49,
     "status": "ok",
     "timestamp": 1742536448019,
     "user": {
      "displayName": "Uzaktan Mühendis",
      "userId": "05854946920835344772"
     },
     "user_tz": -180
    },
    "id": "7UUF0aaaQ0yy",
    "outputId": "c94cfeaa-9a36-4623-f3da-f0338d4da8db"
   },
   "outputs": [
    {
     "name": "stdout",
     "output_type": "stream",
     "text": [
      "{'query': 'What is the most populer Rock Album', 'result': \" I don't know.\"}\n"
     ]
    }
   ],
   "source": [
    "print(results1)"
   ]
  },
  {
   "cell_type": "code",
   "execution_count": null,
   "metadata": {
    "id": "LNHyFIPLRF9C"
   },
   "outputs": [],
   "source": [
    "libray.save_local(\"faiss_index_Rock\") # daha önce oluşturulan FAISS indeksini (libray) \"faiss_index_Rock\" adlı bir klasöre kaydeder."
   ]
  },
  {
   "cell_type": "code",
   "execution_count": null,
   "metadata": {
    "id": "P3ckBwA5Rc4U"
   },
   "outputs": [],
   "source": [
    "Rock_saved = FAISS.load_local(\"faiss_index_Rock\", embeddings, allow_dangerous_deserialization=True)\n",
    "# FAISS indeksini diskten yükler ve Rock_saved değişkeninde saklar, böylece tekrar kullanılır"
   ]
  },
  {
   "cell_type": "code",
   "execution_count": null,
   "metadata": {
    "id": "Unih76t0R4iY"
   },
   "outputs": [],
   "source": [
    "qa= RetrievalQA.from_chain_type(llm=OpenAI(), chain_type=\"stuff\", retriever=Rock_saved.as_retriever())\n",
    "# önceden kayıt edilen ve yüklenen FAISS indeksini kullanarak yeni bir soru-cevap sistemi oluşturur."
   ]
  },
  {
   "cell_type": "code",
   "execution_count": null,
   "metadata": {
    "id": "soEpifxfR21u"
   },
   "outputs": [],
   "source": [
    "results = qa.invoke(retriever_query)"
   ]
  },
  {
   "cell_type": "code",
   "execution_count": null,
   "metadata": {
    "colab": {
     "base_uri": "https://localhost:8080/"
    },
    "executionInfo": {
     "elapsed": 14,
     "status": "ok",
     "timestamp": 1742536790582,
     "user": {
      "displayName": "Uzaktan Mühendis",
      "userId": "05854946920835344772"
     },
     "user_tz": -180
    },
    "id": "y-irFTNrSHTX",
    "outputId": "00375a2b-031c-403d-d79a-b4a21bca24f0"
   },
   "outputs": [
    {
     "name": "stdout",
     "output_type": "stream",
     "text": [
      "{'query': 'What is the some populer Rock Album', 'result': ' Some popular rock albums include \"Sgt. Pepper\\'s Lonely Hearts Club Band\" by the Beatles, \"Nevermind\" by Nirvana, \"Dark Side of the Moon\" by Pink Floyd, and \"Thriller\" by Michael Jackson (which incorporates elements of rock).'}\n"
     ]
    }
   ],
   "source": [
    "print(results)"
   ]
  }
 ],
 "metadata": {
  "colab": {
   "authorship_tag": "ABX9TyNlEuqHefh98nYueOR96f1U",
   "provenance": [
    {
     "file_id": "1U2-clImLejSebo796XIWRXfi5o9898_k",
     "timestamp": 1742555014304
    }
   ]
  },
  "kernelspec": {
   "display_name": "Python 3",
   "name": "python3"
  },
  "language_info": {
   "name": "python"
  }
 },
 "nbformat": 4,
 "nbformat_minor": 0
}
